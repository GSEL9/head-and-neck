{
 "cells": [
  {
   "cell_type": "markdown",
   "metadata": {},
   "source": [
    "# Feature Exploration"
   ]
  },
  {
   "cell_type": "code",
   "execution_count": 13,
   "metadata": {},
   "outputs": [],
   "source": [
    "import numpy as np\n",
    "import pandas as pd"
   ]
  },
  {
   "cell_type": "code",
   "execution_count": 35,
   "metadata": {},
   "outputs": [
    {
     "data": {
      "text/html": [
       "<div>\n",
       "<style scoped>\n",
       "    .dataframe tbody tr th:only-of-type {\n",
       "        vertical-align: middle;\n",
       "    }\n",
       "\n",
       "    .dataframe tbody tr th {\n",
       "        vertical-align: top;\n",
       "    }\n",
       "\n",
       "    .dataframe thead th {\n",
       "        text-align: right;\n",
       "    }\n",
       "</style>\n",
       "<table border=\"1\" class=\"dataframe\">\n",
       "  <thead>\n",
       "    <tr style=\"text-align: right;\">\n",
       "      <th></th>\n",
       "      <th>original_shape_Elongation</th>\n",
       "      <th>original_shape_Flatness</th>\n",
       "      <th>original_shape_LeastAxis</th>\n",
       "      <th>original_shape_MajorAxis</th>\n",
       "      <th>original_shape_Maximum2DDiameterColumn</th>\n",
       "      <th>original_shape_Maximum2DDiameterRow</th>\n",
       "      <th>original_shape_Maximum2DDiameterSlice</th>\n",
       "      <th>original_shape_Maximum3DDiameter</th>\n",
       "      <th>original_shape_MinorAxis</th>\n",
       "      <th>original_shape_Sphericity</th>\n",
       "      <th>...</th>\n",
       "      <th>lbp-3D-k_gldm_LargeDependenceLowGrayLevelEmphasis</th>\n",
       "      <th>lbp-3D-k_gldm_LowGrayLevelEmphasis</th>\n",
       "      <th>lbp-3D-k_gldm_SmallDependenceEmphasis</th>\n",
       "      <th>lbp-3D-k_gldm_SmallDependenceHighGrayLevelEmphasis</th>\n",
       "      <th>lbp-3D-k_gldm_SmallDependenceLowGrayLevelEmphasis</th>\n",
       "      <th>lbp-3D-k_ngtdm_Busyness</th>\n",
       "      <th>lbp-3D-k_ngtdm_Coarseness</th>\n",
       "      <th>lbp-3D-k_ngtdm_Complexity</th>\n",
       "      <th>lbp-3D-k_ngtdm_Contrast</th>\n",
       "      <th>lbp-3D-k_ngtdm_Strength</th>\n",
       "    </tr>\n",
       "  </thead>\n",
       "  <tbody>\n",
       "    <tr>\n",
       "      <th>2</th>\n",
       "      <td>0.987950</td>\n",
       "      <td>0.819248</td>\n",
       "      <td>78.511146</td>\n",
       "      <td>95.833188</td>\n",
       "      <td>105.118980</td>\n",
       "      <td>105.891454</td>\n",
       "      <td>115.260574</td>\n",
       "      <td>133.319166</td>\n",
       "      <td>94.678403</td>\n",
       "      <td>0.808721</td>\n",
       "      <td>...</td>\n",
       "      <td>562.556710</td>\n",
       "      <td>0.938834</td>\n",
       "      <td>0.009910</td>\n",
       "      <td>0.034690</td>\n",
       "      <td>0.003715</td>\n",
       "      <td>19250.246794</td>\n",
       "      <td>0.000034</td>\n",
       "      <td>0.125671</td>\n",
       "      <td>0.009350</td>\n",
       "      <td>0.000035</td>\n",
       "    </tr>\n",
       "    <tr>\n",
       "      <th>4</th>\n",
       "      <td>0.932420</td>\n",
       "      <td>0.864838</td>\n",
       "      <td>73.891813</td>\n",
       "      <td>85.440037</td>\n",
       "      <td>99.764723</td>\n",
       "      <td>96.426138</td>\n",
       "      <td>92.698436</td>\n",
       "      <td>117.991525</td>\n",
       "      <td>79.665969</td>\n",
       "      <td>0.811503</td>\n",
       "      <td>...</td>\n",
       "      <td>545.024978</td>\n",
       "      <td>0.929242</td>\n",
       "      <td>0.007957</td>\n",
       "      <td>0.026727</td>\n",
       "      <td>0.003264</td>\n",
       "      <td>15684.415071</td>\n",
       "      <td>0.000044</td>\n",
       "      <td>0.137647</td>\n",
       "      <td>0.011667</td>\n",
       "      <td>0.000045</td>\n",
       "    </tr>\n",
       "    <tr>\n",
       "      <th>5</th>\n",
       "      <td>0.890233</td>\n",
       "      <td>0.853635</td>\n",
       "      <td>80.819209</td>\n",
       "      <td>94.676572</td>\n",
       "      <td>108.374351</td>\n",
       "      <td>106.404887</td>\n",
       "      <td>99.724621</td>\n",
       "      <td>128.475679</td>\n",
       "      <td>84.284243</td>\n",
       "      <td>0.809920</td>\n",
       "      <td>...</td>\n",
       "      <td>535.948319</td>\n",
       "      <td>0.923491</td>\n",
       "      <td>0.008466</td>\n",
       "      <td>0.028775</td>\n",
       "      <td>0.003389</td>\n",
       "      <td>22290.301116</td>\n",
       "      <td>0.000032</td>\n",
       "      <td>0.147669</td>\n",
       "      <td>0.013438</td>\n",
       "      <td>0.000033</td>\n",
       "    </tr>\n",
       "  </tbody>\n",
       "</table>\n",
       "<p>3 rows × 2037 columns</p>\n",
       "</div>"
      ],
      "text/plain": [
       "   original_shape_Elongation  original_shape_Flatness  \\\n",
       "2                   0.987950                 0.819248   \n",
       "4                   0.932420                 0.864838   \n",
       "5                   0.890233                 0.853635   \n",
       "\n",
       "   original_shape_LeastAxis  original_shape_MajorAxis  \\\n",
       "2                 78.511146                 95.833188   \n",
       "4                 73.891813                 85.440037   \n",
       "5                 80.819209                 94.676572   \n",
       "\n",
       "   original_shape_Maximum2DDiameterColumn  \\\n",
       "2                              105.118980   \n",
       "4                               99.764723   \n",
       "5                              108.374351   \n",
       "\n",
       "   original_shape_Maximum2DDiameterRow  original_shape_Maximum2DDiameterSlice  \\\n",
       "2                           105.891454                             115.260574   \n",
       "4                            96.426138                              92.698436   \n",
       "5                           106.404887                              99.724621   \n",
       "\n",
       "   original_shape_Maximum3DDiameter  original_shape_MinorAxis  \\\n",
       "2                        133.319166                 94.678403   \n",
       "4                        117.991525                 79.665969   \n",
       "5                        128.475679                 84.284243   \n",
       "\n",
       "   original_shape_Sphericity           ...             \\\n",
       "2                   0.808721           ...              \n",
       "4                   0.811503           ...              \n",
       "5                   0.809920           ...              \n",
       "\n",
       "   lbp-3D-k_gldm_LargeDependenceLowGrayLevelEmphasis  \\\n",
       "2                                         562.556710   \n",
       "4                                         545.024978   \n",
       "5                                         535.948319   \n",
       "\n",
       "   lbp-3D-k_gldm_LowGrayLevelEmphasis  lbp-3D-k_gldm_SmallDependenceEmphasis  \\\n",
       "2                            0.938834                               0.009910   \n",
       "4                            0.929242                               0.007957   \n",
       "5                            0.923491                               0.008466   \n",
       "\n",
       "   lbp-3D-k_gldm_SmallDependenceHighGrayLevelEmphasis  \\\n",
       "2                                           0.034690    \n",
       "4                                           0.026727    \n",
       "5                                           0.028775    \n",
       "\n",
       "   lbp-3D-k_gldm_SmallDependenceLowGrayLevelEmphasis  lbp-3D-k_ngtdm_Busyness  \\\n",
       "2                                           0.003715             19250.246794   \n",
       "4                                           0.003264             15684.415071   \n",
       "5                                           0.003389             22290.301116   \n",
       "\n",
       "   lbp-3D-k_ngtdm_Coarseness  lbp-3D-k_ngtdm_Complexity  \\\n",
       "2                   0.000034                   0.125671   \n",
       "4                   0.000044                   0.137647   \n",
       "5                   0.000032                   0.147669   \n",
       "\n",
       "   lbp-3D-k_ngtdm_Contrast  lbp-3D-k_ngtdm_Strength  \n",
       "2                 0.009350                 0.000035  \n",
       "4                 0.011667                 0.000045  \n",
       "5                 0.013438                 0.000033  \n",
       "\n",
       "[3 rows x 2037 columns]"
      ]
     },
     "execution_count": 35,
     "metadata": {},
     "output_type": "execute_result"
    }
   ],
   "source": [
    "raw_data = pd.read_csv(\n",
    "    './../../data/images/features_ct/prep_features1.csv', index_col=0\n",
    ")\n",
    "raw_data.head()"
   ]
  },
  {
   "cell_type": "code",
   "execution_count": 36,
   "metadata": {},
   "outputs": [
    {
     "data": {
      "text/plain": [
       "(3, 2037)"
      ]
     },
     "execution_count": 36,
     "metadata": {},
     "output_type": "execute_result"
    }
   ],
   "source": [
    "raw_data.shape"
   ]
  },
  {
   "cell_type": "code",
   "execution_count": 37,
   "metadata": {},
   "outputs": [],
   "source": [
    "from sklearn.preprocessing import StandardScaler"
   ]
  },
  {
   "cell_type": "code",
   "execution_count": 39,
   "metadata": {},
   "outputs": [],
   "source": [
    "scaler = StandardScaler()\n",
    "X_std = scaler.fit_transform(raw_data.values)"
   ]
  },
  {
   "cell_type": "code",
   "execution_count": 46,
   "metadata": {},
   "outputs": [
    {
     "data": {
      "text/html": [
       "<div>\n",
       "<style scoped>\n",
       "    .dataframe tbody tr th:only-of-type {\n",
       "        vertical-align: middle;\n",
       "    }\n",
       "\n",
       "    .dataframe tbody tr th {\n",
       "        vertical-align: top;\n",
       "    }\n",
       "\n",
       "    .dataframe thead th {\n",
       "        text-align: right;\n",
       "    }\n",
       "</style>\n",
       "<table border=\"1\" class=\"dataframe\">\n",
       "  <thead>\n",
       "    <tr style=\"text-align: right;\">\n",
       "      <th></th>\n",
       "      <th>pfs</th>\n",
       "    </tr>\n",
       "    <tr>\n",
       "      <th>ID</th>\n",
       "      <th></th>\n",
       "    </tr>\n",
       "  </thead>\n",
       "  <tbody>\n",
       "    <tr>\n",
       "      <th>2</th>\n",
       "      <td>1</td>\n",
       "    </tr>\n",
       "    <tr>\n",
       "      <th>4</th>\n",
       "      <td>1</td>\n",
       "    </tr>\n",
       "    <tr>\n",
       "      <th>5</th>\n",
       "      <td>1</td>\n",
       "    </tr>\n",
       "    <tr>\n",
       "      <th>8</th>\n",
       "      <td>1</td>\n",
       "    </tr>\n",
       "    <tr>\n",
       "      <th>10</th>\n",
       "      <td>1</td>\n",
       "    </tr>\n",
       "  </tbody>\n",
       "</table>\n",
       "</div>"
      ],
      "text/plain": [
       "    pfs\n",
       "ID     \n",
       "2     1\n",
       "4     1\n",
       "5     1\n",
       "8     1\n",
       "10    1"
      ]
     },
     "execution_count": 46,
     "metadata": {},
     "output_type": "execute_result"
    }
   ],
   "source": [
    "target = pd.read_csv('./../../data/target/pfs.csv', sep=',', index_col=0)\n",
    "target.head()"
   ]
  },
  {
   "cell_type": "code",
   "execution_count": 47,
   "metadata": {},
   "outputs": [],
   "source": [
    "y = target.values"
   ]
  },
  {
   "cell_type": "markdown",
   "metadata": {},
   "source": [
    "## Chi2 Selection"
   ]
  },
  {
   "cell_type": "code",
   "execution_count": 40,
   "metadata": {},
   "outputs": [],
   "source": [
    "from sklearn.feature_selection import chi2\n",
    "from sklearn.feature_selection import SelectKBest"
   ]
  },
  {
   "cell_type": "code",
   "execution_count": 56,
   "metadata": {},
   "outputs": [],
   "source": [
    "# Threshold statistical tests.\n",
    "THRESH = 0.05"
   ]
  },
  {
   "cell_type": "code",
   "execution_count": 55,
   "metadata": {},
   "outputs": [
    {
     "ename": "ValueError",
     "evalue": "Found input variables with inconsistent numbers of samples: [3, 198]",
     "output_type": "error",
     "traceback": [
      "\u001b[0;31m---------------------------------------------------------------------------\u001b[0m",
      "\u001b[0;31mValueError\u001b[0m                                Traceback (most recent call last)",
      "\u001b[0;32m<ipython-input-55-b1f298cd2d6e>\u001b[0m in \u001b[0;36m<module>\u001b[0;34m()\u001b[0m\n\u001b[1;32m      1\u001b[0m \u001b[0mselector\u001b[0m \u001b[0;34m=\u001b[0m \u001b[0mSelectKBest\u001b[0m\u001b[0;34m(\u001b[0m\u001b[0mchi2\u001b[0m\u001b[0;34m,\u001b[0m \u001b[0mk\u001b[0m\u001b[0;34m=\u001b[0m\u001b[0;34m'all'\u001b[0m\u001b[0;34m)\u001b[0m\u001b[0;34m\u001b[0m\u001b[0m\n\u001b[0;32m----> 2\u001b[0;31m \u001b[0mselector\u001b[0m\u001b[0;34m.\u001b[0m\u001b[0mfit\u001b[0m\u001b[0;34m(\u001b[0m\u001b[0mX_std\u001b[0m\u001b[0;34m,\u001b[0m \u001b[0my\u001b[0m\u001b[0;34m)\u001b[0m\u001b[0;34m\u001b[0m\u001b[0m\n\u001b[0m",
      "\u001b[0;32m~/anaconda/lib/python3.6/site-packages/sklearn/feature_selection/univariate_selection.py\u001b[0m in \u001b[0;36mfit\u001b[0;34m(self, X, y)\u001b[0m\n\u001b[1;32m    339\u001b[0m             \u001b[0mReturns\u001b[0m \u001b[0mself\u001b[0m\u001b[0;34m.\u001b[0m\u001b[0;34m\u001b[0m\u001b[0m\n\u001b[1;32m    340\u001b[0m         \"\"\"\n\u001b[0;32m--> 341\u001b[0;31m         \u001b[0mX\u001b[0m\u001b[0;34m,\u001b[0m \u001b[0my\u001b[0m \u001b[0;34m=\u001b[0m \u001b[0mcheck_X_y\u001b[0m\u001b[0;34m(\u001b[0m\u001b[0mX\u001b[0m\u001b[0;34m,\u001b[0m \u001b[0my\u001b[0m\u001b[0;34m,\u001b[0m \u001b[0;34m[\u001b[0m\u001b[0;34m'csr'\u001b[0m\u001b[0;34m,\u001b[0m \u001b[0;34m'csc'\u001b[0m\u001b[0;34m]\u001b[0m\u001b[0;34m,\u001b[0m \u001b[0mmulti_output\u001b[0m\u001b[0;34m=\u001b[0m\u001b[0;32mTrue\u001b[0m\u001b[0;34m)\u001b[0m\u001b[0;34m\u001b[0m\u001b[0m\n\u001b[0m\u001b[1;32m    342\u001b[0m \u001b[0;34m\u001b[0m\u001b[0m\n\u001b[1;32m    343\u001b[0m         \u001b[0;32mif\u001b[0m \u001b[0;32mnot\u001b[0m \u001b[0mcallable\u001b[0m\u001b[0;34m(\u001b[0m\u001b[0mself\u001b[0m\u001b[0;34m.\u001b[0m\u001b[0mscore_func\u001b[0m\u001b[0;34m)\u001b[0m\u001b[0;34m:\u001b[0m\u001b[0;34m\u001b[0m\u001b[0m\n",
      "\u001b[0;32m~/anaconda/lib/python3.6/site-packages/sklearn/utils/validation.py\u001b[0m in \u001b[0;36mcheck_X_y\u001b[0;34m(X, y, accept_sparse, dtype, order, copy, force_all_finite, ensure_2d, allow_nd, multi_output, ensure_min_samples, ensure_min_features, y_numeric, warn_on_dtype, estimator)\u001b[0m\n\u001b[1;32m    581\u001b[0m         \u001b[0my\u001b[0m \u001b[0;34m=\u001b[0m \u001b[0my\u001b[0m\u001b[0;34m.\u001b[0m\u001b[0mastype\u001b[0m\u001b[0;34m(\u001b[0m\u001b[0mnp\u001b[0m\u001b[0;34m.\u001b[0m\u001b[0mfloat64\u001b[0m\u001b[0;34m)\u001b[0m\u001b[0;34m\u001b[0m\u001b[0m\n\u001b[1;32m    582\u001b[0m \u001b[0;34m\u001b[0m\u001b[0m\n\u001b[0;32m--> 583\u001b[0;31m     \u001b[0mcheck_consistent_length\u001b[0m\u001b[0;34m(\u001b[0m\u001b[0mX\u001b[0m\u001b[0;34m,\u001b[0m \u001b[0my\u001b[0m\u001b[0;34m)\u001b[0m\u001b[0;34m\u001b[0m\u001b[0m\n\u001b[0m\u001b[1;32m    584\u001b[0m \u001b[0;34m\u001b[0m\u001b[0m\n\u001b[1;32m    585\u001b[0m     \u001b[0;32mreturn\u001b[0m \u001b[0mX\u001b[0m\u001b[0;34m,\u001b[0m \u001b[0my\u001b[0m\u001b[0;34m\u001b[0m\u001b[0m\n",
      "\u001b[0;32m~/anaconda/lib/python3.6/site-packages/sklearn/utils/validation.py\u001b[0m in \u001b[0;36mcheck_consistent_length\u001b[0;34m(*arrays)\u001b[0m\n\u001b[1;32m    202\u001b[0m     \u001b[0;32mif\u001b[0m \u001b[0mlen\u001b[0m\u001b[0;34m(\u001b[0m\u001b[0muniques\u001b[0m\u001b[0;34m)\u001b[0m \u001b[0;34m>\u001b[0m \u001b[0;36m1\u001b[0m\u001b[0;34m:\u001b[0m\u001b[0;34m\u001b[0m\u001b[0m\n\u001b[1;32m    203\u001b[0m         raise ValueError(\"Found input variables with inconsistent numbers of\"\n\u001b[0;32m--> 204\u001b[0;31m                          \" samples: %r\" % [int(l) for l in lengths])\n\u001b[0m\u001b[1;32m    205\u001b[0m \u001b[0;34m\u001b[0m\u001b[0m\n\u001b[1;32m    206\u001b[0m \u001b[0;34m\u001b[0m\u001b[0m\n",
      "\u001b[0;31mValueError\u001b[0m: Found input variables with inconsistent numbers of samples: [3, 198]"
     ]
    }
   ],
   "source": [
    "selector = SelectKBest(chi2, k='all')\n",
    "selector.fit(X_std, y)\n",
    "\n",
    "# Checkout: https://www.youtube.com/watch?v=fnupA1nWrHM\n",
    "# Checkout: https://www.youtube.com/watch?v=SV48FYQPkb4"
   ]
  },
  {
   "cell_type": "code",
   "execution_count": null,
   "metadata": {},
   "outputs": [],
   "source": []
  }
 ],
 "metadata": {
  "anaconda-cloud": {},
  "kernelspec": {
   "display_name": "Python [conda env:anaconda]",
   "language": "python",
   "name": "conda-env-anaconda-py"
  },
  "language_info": {
   "codemirror_mode": {
    "name": "ipython",
    "version": 3
   },
   "file_extension": ".py",
   "mimetype": "text/x-python",
   "name": "python",
   "nbconvert_exporter": "python",
   "pygments_lexer": "ipython3",
   "version": "3.6.6"
  }
 },
 "nbformat": 4,
 "nbformat_minor": 2
}

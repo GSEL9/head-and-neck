{
 "cells": [
  {
   "cell_type": "markdown",
   "metadata": {},
   "source": [
    "# Feature Extraction\n",
    "\n",
    "Extracting features from PET and CT images."
   ]
  },
  {
   "cell_type": "code",
   "execution_count": null,
   "metadata": {},
   "outputs": [],
   "source": [
    "import sys\n",
    "sys.path.append('../src')\n",
    "\n",
    "import nrrd\n",
    "import ioutil\n",
    "\n",
    "import numpy as np\n",
    "import pandas as pd\n",
    "\n",
    "from feature_extraction import feature_extraction\n",
    "\n",
    "%matplotlib inline"
   ]
  },
  {
   "cell_type": "markdown",
   "metadata": {},
   "source": [
    "Setup disk references"
   ]
  },
  {
   "cell_type": "code",
   "execution_count": null,
   "metadata": {},
   "outputs": [],
   "source": [
    "ct_param_file = './../../data/fallback/extraction_settings/fallback_ct.yaml'\n",
    "pet_param_file = './../../data/fallback/extraction_settings/fallback_pet.yaml'\n",
    "\n",
    "path_ct_features = './../../data/fallback/image_features/ct_features.csv'\n",
    "path_pet_features = './../../data/fallback/image_features/pet_features.csv'\n",
    "\n",
    "path_ct_imagedir = './../../data/images/ct_cropped/'\n",
    "path_pet_imagedir = './../../data/images/pet_cropped/'\n",
    "path_masksdir = './../../data/images/masks_cropped/'"
   ]
  },
  {
   "cell_type": "code",
   "execution_count": null,
   "metadata": {},
   "outputs": [],
   "source": [
    "paths_ct_images = ioutil.sample_paths(\n",
    "    path_ct_imagedir, path_masksdir, target_format='nrrd'\n",
    ")\n",
    "paths_pet_images = ioutil.sample_paths(\n",
    "    path_pet_imagedir, path_masksdir, target_format='nrrd'\n",
    ")\n",
    "len(paths_ct_images), len(paths_pet_images)"
   ]
  },
  {
   "cell_type": "markdown",
   "metadata": {},
   "source": [
    "## Bin Width\n",
    "\n",
    "Computing the bin width to discretize PET and CT images into 16 bins and 128 bins, respectively. Bin widths are calcualated as the average intensity range across all samples divided by the target number of bins."
   ]
  },
  {
   "cell_type": "code",
   "execution_count": null,
   "metadata": {},
   "outputs": [],
   "source": [
    "def mean_intensity_range(image_sample_paths):\n",
    "    \n",
    "    image_max, image_min = [], []\n",
    "    for num, sample_items in enumerate(image_sample_paths):  \n",
    "        image_path, mask_path, _, _ = sample_items.values()\n",
    "        \n",
    "        # Compute cropped image.\n",
    "        mask, _ = nrrd.read(mask_path)\n",
    "        raw_image, _ = nrrd.read(image_path)\n",
    "        raw_image = raw_image * mask\n",
    "        \n",
    "        # Store intensity range informatino\n",
    "        image_max.append(np.max(raw_image)), image_min.append(np.min(raw_image))\n",
    "    \n",
    "    # Return average intensity range.\n",
    "    return np.mean(image_max) - np.mean(image_min)"
   ]
  },
  {
   "cell_type": "code",
   "execution_count": null,
   "metadata": {},
   "outputs": [],
   "source": [
    "mean_range_ct = mean_intensity_range(paths_ct_images)\n",
    "mean_range_pet = mean_intensity_range(paths_ct_images)"
   ]
  },
  {
   "cell_type": "code",
   "execution_count": null,
   "metadata": {},
   "outputs": [],
   "source": [
    "mean_range_ct / 128"
   ]
  },
  {
   "cell_type": "code",
   "execution_count": null,
   "metadata": {},
   "outputs": [],
   "source": [
    "mean_range_pet / 16"
   ]
  },
  {
   "cell_type": "code",
   "execution_count": null,
   "metadata": {},
   "outputs": [],
   "source": []
  }
 ],
 "metadata": {
  "anaconda-cloud": {},
  "kernelspec": {
   "display_name": "Python [conda env:anaconda]",
   "language": "python",
   "name": "conda-env-anaconda-py"
  },
  "language_info": {
   "codemirror_mode": {
    "name": "ipython",
    "version": 3
   },
   "file_extension": ".py",
   "mimetype": "text/x-python",
   "name": "python",
   "nbconvert_exporter": "python",
   "pygments_lexer": "ipython3",
   "version": "3.6.6"
  }
 },
 "nbformat": 4,
 "nbformat_minor": 2
}

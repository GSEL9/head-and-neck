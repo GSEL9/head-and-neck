{
 "cells": [
  {
   "cell_type": "markdown",
   "metadata": {},
   "source": [
    "# Feature Extraction"
   ]
  },
  {
   "cell_type": "code",
   "execution_count": 6,
   "metadata": {},
   "outputs": [],
   "source": [
    "import sys\n",
    "sys.path.append('../src')\n",
    "\n",
    "import ioutil\n",
    "import postprep\n",
    "import feature_extraction\n",
    "\n",
    "import SimpleITK as sitk"
   ]
  },
  {
   "cell_type": "markdown",
   "metadata": {},
   "source": [
    "Image data locations"
   ]
  },
  {
   "cell_type": "code",
   "execution_count": 2,
   "metadata": {},
   "outputs": [],
   "source": [
    "path_ct_dir = './../../data/images/stacks_ct/prep_ct'\n",
    "path_pet_dir = './../../data/images/stacks_pet/prep_pet'\n",
    "path_masks_dir = './../../data/images/masks/prep_masks'"
   ]
  },
  {
   "cell_type": "markdown",
   "metadata": {},
   "source": [
    "Locations of parameter files"
   ]
  },
  {
   "cell_type": "code",
   "execution_count": null,
   "metadata": {},
   "outputs": [],
   "source": [
    "param_file1 = './../../data/extraction_settings/ct_extract_settings1.yaml'\n",
    "param_file2 = './../../data/extraction_settings/ct_extract_settings2.yaml'\n",
    "param_file3 = './../../data/extraction_settings/ct_extract_settings3.yaml'\n",
    "param_file4 = './../../data/extraction_settings/ct_extract_settings4.yaml'\n",
    "param_file5 = './../../data/extraction_settings/ct_extract_settings5.yaml'\n",
    "param_files = [\n",
    "    param_file1, param_file2, param_file3, param_file4, param_file5\n",
    "]"
   ]
  },
  {
   "cell_type": "markdown",
   "metadata": {},
   "source": [
    "Locations of extracted features"
   ]
  },
  {
   "cell_type": "code",
   "execution_count": 3,
   "metadata": {},
   "outputs": [],
   "source": [
    "path_raw_ct_features = [\n",
    "    './../../data/results/feature_extraction/features_ct/raw_features1.csv'\n",
    "    './../../data/results/feature_extraction/features_ct/raw_features2.csv',\n",
    "    './../../data/results/feature_extraction/features_ct/raw_features3.csv',\n",
    "    './../../data/results/feature_extraction/features_ct/raw_features4.csv',\n",
    "    './../../data/results/feature_extraction/features_ct/raw_features5.csv',\n",
    "]\n",
    "path_raw_pet_features = [\n",
    "    './../../data/results/feature_extraction/features_pet/raw_features1.csv'\n",
    "    './../../data/results/feature_extraction/features_pet/raw_features2.csv',\n",
    "    './../../data/results/feature_extraction/features_pet/raw_features3.csv',\n",
    "    './../../data/results/feature_extraction/features_pet/raw_features4.csv',\n",
    "    './../../data/results/feature_extraction/features_pet/raw_features5.csv',\n",
    "]"
   ]
  },
  {
   "cell_type": "markdown",
   "metadata": {},
   "source": [
    "Locations of processed extraced features"
   ]
  },
  {
   "cell_type": "code",
   "execution_count": null,
   "metadata": {},
   "outputs": [],
   "source": [
    "path_prep_ct_features = [\n",
    "    './../../data/results/feature_extraction/features_ct/prep_features1.csv',\n",
    "    './../../data/results/feature_extraction/features_ct/prep_features2.csv',\n",
    "    './../../data/results/feature_extraction/features_ct/prep_features3.csv',\n",
    "    './../../data/results/feature_extraction/features_ct/prep_features4.csv',\n",
    "    './../../data/results/feature_extraction/features_ct/prep_features5.csv'\n",
    "]\n",
    "path_prep_pet_features = [\n",
    "    './../../data/results/feature_extraction/features_ct/prep_features1.csv',\n",
    "    './../../data/results/feature_extraction/features_ct/prep_features2.csv',\n",
    "    './../../data/results/feature_extraction/features_ct/prep_features3.csv',\n",
    "    './../../data/results/feature_extraction/features_ct/prep_features4.csv',\n",
    "    './../../data/results/feature_extraction/features_ct/prep_features5.csv'\n",
    "]"
   ]
  },
  {
   "cell_type": "markdown",
   "metadata": {},
   "source": [
    "Ensure the entire extraction is handled on one thread"
   ]
  },
  {
   "cell_type": "code",
   "execution_count": 7,
   "metadata": {},
   "outputs": [],
   "source": [
    "sitk.ProcessObject_SetGlobalDefaultNumberOfThreads(1)"
   ]
  },
  {
   "cell_type": "markdown",
   "metadata": {},
   "source": [
    "Collect relative paths to all CT and PET samples"
   ]
  },
  {
   "cell_type": "code",
   "execution_count": 8,
   "metadata": {},
   "outputs": [],
   "source": [
    "paths_ct_samples = ioutil.sample_paths(\n",
    "    path_ct_dir, path_masks_dir, target_format='nrrd'\n",
    ")\n",
    "paths_pet_samples = ioutil.sample_paths(\n",
    "    path_pet_dir, path_masks_dir, target_format='nrrd'\n",
    ")"
   ]
  },
  {
   "cell_type": "markdown",
   "metadata": {},
   "source": [
    "Extract raw features and write raw features to disk. Clean up raw features by:\n",
    "* Drop information columns and retain only feature specific columns.\n",
    "* R"
   ]
  },
  {
   "cell_type": "code",
   "execution_count": null,
   "metadata": {},
   "outputs": [],
   "source": [
    "drop_cols = [\n",
    "    'Image', 'Mask', 'Patient', 'Reader', 'label', 'general'\n",
    "]\n",
    "for num, param_file in enumerate(param_files):\n",
    "    raw_ct_outputs = feature_extraction(param_file, paths_ct_samples)\n",
    "    raw_pet_outputs = feature_extraction(param_file, paths_pet_samples)\n",
    "    \n",
    "    ioutil.write_final_results(path_raw_ct_features[num], raw_ct_outputs)\n",
    "    ioutil.write_final_results(path_raw_pet_features[num], raw_pet_outputs)\n",
    "    \n",
    "    prep_ct_features = postprep.check_features(\n",
    "        path_raw_ct_features[num], drop_cols=drop_cols\n",
    "    )\n",
    "    prep_pet_features = postprep.check_features(\n",
    "        path_raw_pet_features[num], drop_cols=drop_cols\n",
    "    )\n",
    "    ioutil.write_final_results(path_prep_ct_features[num], prep_ct_features)\n",
    "    ioutil.write_final_results(path_prep_pet_features[num], prep_pet_features)"
   ]
  },
  {
   "cell_type": "code",
   "execution_count": null,
   "metadata": {},
   "outputs": [],
   "source": []
  }
 ],
 "metadata": {
  "kernelspec": {
   "display_name": "Python [conda env:anaconda]",
   "language": "python",
   "name": "conda-env-anaconda-py"
  },
  "language_info": {
   "codemirror_mode": {
    "name": "ipython",
    "version": 3
   },
   "file_extension": ".py",
   "mimetype": "text/x-python",
   "name": "python",
   "nbconvert_exporter": "python",
   "pygments_lexer": "ipython3",
   "version": "3.6.6"
  }
 },
 "nbformat": 4,
 "nbformat_minor": 2
}

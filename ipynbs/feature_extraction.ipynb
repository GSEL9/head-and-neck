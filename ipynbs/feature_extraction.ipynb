{
 "cells": [
  {
   "cell_type": "markdown",
   "metadata": {},
   "source": [
    "# Feature Extraction"
   ]
  },
  {
   "cell_type": "code",
   "execution_count": null,
   "metadata": {},
   "outputs": [],
   "source": [
    "import sys\n",
    "sys.path.append('../src')\n",
    "\n",
    "import ioutil\n",
    "import postprep\n",
    "\n",
    "from datetime import datetime\n",
    "from feature_extraction import feature_extraction\n",
    "\n",
    "import SimpleITK as sitk"
   ]
  },
  {
   "cell_type": "markdown",
   "metadata": {},
   "source": [
    "Image data locations"
   ]
  },
  {
   "cell_type": "code",
   "execution_count": null,
   "metadata": {},
   "outputs": [],
   "source": [
    "path_ct_dir = './../../data/images/ct_cropped_prep/'\n",
    "path_pet_dir = './../../data/images/pet_cropped_prep/'\n",
    "path_masks_dir = './../../data/images/masks_cropped_prep/'"
   ]
  },
  {
   "cell_type": "markdown",
   "metadata": {},
   "source": [
    "Locations of parameter files"
   ]
  },
  {
   "cell_type": "code",
   "execution_count": null,
   "metadata": {},
   "outputs": [],
   "source": [
    "param_file1 = './../../data/extraction_settings/extract_settings1.yaml'\n",
    "param_file2 = './../../data/extraction_settings/extract_settings2.yaml'\n",
    "param_file3 = './../../data/extraction_settings/extract_settings3.yaml'\n",
    "param_file4 = './../../data/extraction_settings/extract_settings4.yaml'\n",
    "param_file5 = './../../data/extraction_settings/extract_settings5.yaml'\n",
    "param_files = [\n",
    "    param_file1, param_file2, param_file3, param_file4, param_file5\n",
    "]"
   ]
  },
  {
   "cell_type": "markdown",
   "metadata": {},
   "source": [
    "Locations of extracted features"
   ]
  },
  {
   "cell_type": "code",
   "execution_count": null,
   "metadata": {},
   "outputs": [],
   "source": [
    "path_raw_ct_features = [\n",
    "    './../../data/outputs/ct_feature_extraction/raw_ct_features1.csv',\n",
    "    './../../data/outputs/ct_feature_extraction/raw_ct_features2.csv',\n",
    "    './../../data/outputs/ct_feature_extraction/raw_ct_features3.csv',\n",
    "    './../../data/outputs/ct_feature_extraction/raw_ct_features4.csv',\n",
    "    './../../data/outputs/ct_feature_extraction/raw_ct_features5.csv'\n",
    "]\n",
    "path_raw_pet_features = [\n",
    "    './../../data/outputs/pet_feature_extraction/raw_pet_features1.csv',\n",
    "    './../../data/outputs/pet_feature_extraction/raw_pet_features2.csv',\n",
    "    './../../data/outputs/pet_feature_extraction/raw_pet_features3.csv',\n",
    "    './../../data/outputs/pet_feature_extraction/raw_pet_features4.csv',\n",
    "    './../../data/outputs/pet_feature_extraction/raw_pet_features5.csv'\n",
    "]"
   ]
  },
  {
   "cell_type": "markdown",
   "metadata": {},
   "source": [
    "Ensure the entire extraction is handled on one thread"
   ]
  },
  {
   "cell_type": "code",
   "execution_count": null,
   "metadata": {},
   "outputs": [],
   "source": [
    "sitk.ProcessObject_SetGlobalDefaultNumberOfThreads(1)"
   ]
  },
  {
   "cell_type": "markdown",
   "metadata": {},
   "source": [
    "Collect relative paths to all CT and PET samples"
   ]
  },
  {
   "cell_type": "code",
   "execution_count": null,
   "metadata": {},
   "outputs": [],
   "source": [
    "paths_ct_samples = ioutil.sample_paths(\n",
    "    path_ct_dir, path_masks_dir, target_format='nrrd'\n",
    ")\n",
    "paths_pet_samples = ioutil.sample_paths(\n",
    "    path_pet_dir, path_masks_dir, target_format='nrrd'\n",
    ")"
   ]
  },
  {
   "cell_type": "markdown",
   "metadata": {},
   "source": [
    "## PET\n",
    "\n",
    "Extract raw features and write to disk."
   ]
  },
  {
   "cell_type": "code",
   "execution_count": null,
   "metadata": {},
   "outputs": [],
   "source": [
    "for num, param_file in enumerate(param_files):\n",
    "     \n",
    "    print('Starting run: {}\\nParam file: {}'.format(num, param_file))\n",
    "    \n",
    "    start_time = datetime.now()   \n",
    "    raw_pet_outputs = feature_extraction(param_file, paths_pet_samples)    \n",
    "    print('Duration feature extraction: {}'.format(datetime.now() - start_time))\n",
    "    \n",
    "    ioutil.write_final_results(path_raw_pet_features[num], raw_pet_outputs)\n",
    "    print('Duration extraction process: {}'.format(datetime.now() - start_time))\n",
    "    "
   ]
  },
  {
   "cell_type": "markdown",
   "metadata": {},
   "source": [
    "## CT"
   ]
  },
  {
   "cell_type": "code",
   "execution_count": null,
   "metadata": {},
   "outputs": [],
   "source": [
    "for num, param_file in enumerate(param_files):\n",
    "    \n",
    "    print('Starting run: {}\\nParam file: {}'.format(num, param_file))\n",
    "    \n",
    "    start_time = datetime.now()   \n",
    "    raw_ct_outputs = feature_extraction(param_file, paths_ct_samples)\n",
    "    print('Duration feature extraction: {}'.format(datetime.now() - start_time))\n",
    "    \n",
    "    ioutil.write_final_results(path_raw_ct_features[num], raw_ct_outputs)\n",
    "    print('Duration extraction process: {}'.format(datetime.now() - start_time))"
   ]
  },
  {
   "cell_type": "code",
   "execution_count": null,
   "metadata": {},
   "outputs": [],
   "source": []
  }
 ],
 "metadata": {
  "anaconda-cloud": {},
  "kernelspec": {
   "display_name": "Python [conda env:anaconda]",
   "language": "python",
   "name": "conda-env-anaconda-py"
  },
  "language_info": {
   "codemirror_mode": {
    "name": "ipython",
    "version": 3
   },
   "file_extension": ".py",
   "mimetype": "text/x-python",
   "name": "python",
   "nbconvert_exporter": "python",
   "pygments_lexer": "ipython3",
   "version": "3.6.6"
  }
 },
 "nbformat": 4,
 "nbformat_minor": 2
}

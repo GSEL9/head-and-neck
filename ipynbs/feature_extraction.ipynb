{
 "cells": [
  {
   "cell_type": "markdown",
   "metadata": {},
   "source": [
    "# Feature Extraction"
   ]
  },
  {
   "cell_type": "code",
   "execution_count": null,
   "metadata": {},
   "outputs": [],
   "source": [
    "import sys\n",
    "sys.path.append('../src')\n",
    "\n",
    "import os\n",
    "import ioutil\n",
    "import feature_postprep\n",
    "\n",
    "from datetime import datetime\n",
    "from feature_extraction import feature_extraction\n",
    "\n",
    "import SimpleITK as sitk"
   ]
  },
  {
   "cell_type": "markdown",
   "metadata": {},
   "source": [
    "Image data locations"
   ]
  },
  {
   "cell_type": "code",
   "execution_count": null,
   "metadata": {},
   "outputs": [],
   "source": [
    "path_ct_dir = './../../data/images/ct_cropped/'\n",
    "path_pet_dir = './../../data/images/pet_cropped/'\n",
    "path_masks_dir = './../../data/images/masks_cropped/'"
   ]
  },
  {
   "cell_type": "markdown",
   "metadata": {},
   "source": [
    "Locations of parameter files"
   ]
  },
  {
   "cell_type": "code",
   "execution_count": null,
   "metadata": {},
   "outputs": [],
   "source": [
    "base_path = './../../data/extraction_settings/discr/'\n",
    "\n",
    "ct_fnames = [\n",
    "    'ct_extract_set_discr1.yaml',\n",
    "    'ct_extract_set_discr2.yaml',\n",
    "    'ct_extract_set_discr3.yaml',\n",
    "    'ct_extract_set_discr4.yaml',\n",
    "]\n",
    "pet_fnames = [\n",
    "    'pet_extract_set_discr1.yaml',\n",
    "    'pet_extract_set_discr2.yaml',\n",
    "    'pet_extract_set_discr3.yaml',\n",
    "    'pet_extract_set_discr4.yaml',\n",
    "]\n",
    "ct_param_files = [\n",
    "    os.path.join(base_path, ct_fname) for ct_fname in ct_fnames\n",
    "]\n",
    "pet_param_files = [\n",
    "    os.path.join(base_path, pet_fname) for pet_fname in pet_fnames\n",
    "]"
   ]
  },
  {
   "cell_type": "markdown",
   "metadata": {},
   "source": [
    "Locations of extracted features"
   ]
  },
  {
   "cell_type": "code",
   "execution_count": null,
   "metadata": {},
   "outputs": [],
   "source": [
    "path_raw_ct_features = [\n",
    "        './../../data/outputs/ct_features/raw_ct_features1.csv',\n",
    "        './../../data/outputs/ct_features/raw_ct_features2.csv',\n",
    "        './../../data/outputs/ct_features/raw_ct_features3.csv',\n",
    "        './../../data/outputs/ct_features/raw_ct_features4.csv',\n",
    "    ]\n",
    "path_raw_pet_features = [\n",
    "    './../../data/outputs/pet_features/raw_pet_features1.csv',\n",
    "    './../../data/outputs/pet_features/raw_pet_features2.csv',\n",
    "    './../../data/outputs/pet_features/raw_pet_features3.csv',\n",
    "    './../../data/outputs/pet_features/raw_pet_features4.csv',\n",
    "]\n",
    "\n",
    "paths_ct_samples = ioutil.sample_paths(\n",
    "    path_ct_dir, path_masks_dir, target_format='nrrd'\n",
    ")\n",
    "paths_pet_samples = ioutil.sample_paths(\n",
    "    path_pet_dir, path_masks_dir, target_format='nrrd'\n",
    ")"
   ]
  },
  {
   "cell_type": "markdown",
   "metadata": {},
   "source": [
    "Ensure the entire extraction is handled on one thread"
   ]
  },
  {
   "cell_type": "code",
   "execution_count": null,
   "metadata": {},
   "outputs": [],
   "source": [
    "sitk.ProcessObject_SetGlobalDefaultNumberOfThreads(1)"
   ]
  },
  {
   "cell_type": "markdown",
   "metadata": {},
   "source": [
    "Collect relative paths to all CT and PET samples"
   ]
  },
  {
   "cell_type": "code",
   "execution_count": null,
   "metadata": {},
   "outputs": [],
   "source": [
    "paths_ct_samples = ioutil.sample_paths(\n",
    "    path_ct_dir, path_masks_dir, target_format='nrrd'\n",
    ")\n",
    "paths_pet_samples = ioutil.sample_paths(\n",
    "    path_pet_dir, path_masks_dir, target_format='nrrd'\n",
    ")"
   ]
  },
  {
   "cell_type": "markdown",
   "metadata": {},
   "source": [
    "## PET\n",
    "\n",
    "Extract raw features and write to disk."
   ]
  },
  {
   "cell_type": "code",
   "execution_count": null,
   "metadata": {},
   "outputs": [],
   "source": [
    "for num, pet_param_file in enumerate(pet_param_files):\n",
    "\n",
    "    #utils.setup_logger(unique_fname)\n",
    "\n",
    "    print('Run: {}\\nParam file: {}'.format(num+1, pet_param_file))\n",
    "\n",
    "    start_time = datetime.now()\n",
    "    raw_pet_outputs = feature_extraction(pet_param_file, paths_pet_samples)\n",
    "    print('Features extracted in: {}'.format(datetime.now() - start_time))\n",
    "\n",
    "    ioutil.write_final_results(path_raw_pet_features[num], raw_pet_outputs)"
   ]
  },
  {
   "cell_type": "markdown",
   "metadata": {},
   "source": [
    "## CT"
   ]
  },
  {
   "cell_type": "code",
   "execution_count": null,
   "metadata": {},
   "outputs": [],
   "source": [
    "for num, ct_param_file in enumerate(ct_param_files):\n",
    "\n",
    "    #utils.setup_logger(unique_fname)\n",
    "\n",
    "    print('Run: {}\\nParam file: {}'.format(num+1, ct_param_file))\n",
    "\n",
    "    start_time = datetime.now()\n",
    "    raw_ct_outputs = feature_extraction(ct_param_file, paths_ct_samples)\n",
    "    print('Features extracted in: {}'.format(datetime.now() - start_time))\n",
    "\n",
    "    ioutil.write_final_results(path_raw_ct_features[num], raw_ct_outputs)"
   ]
  },
  {
   "cell_type": "code",
   "execution_count": null,
   "metadata": {},
   "outputs": [],
   "source": []
  }
 ],
 "metadata": {
  "anaconda-cloud": {},
  "kernelspec": {
   "display_name": "Python [conda env:anaconda]",
   "language": "python",
   "name": "conda-env-anaconda-py"
  },
  "language_info": {
   "codemirror_mode": {
    "name": "ipython",
    "version": 3
   },
   "file_extension": ".py",
   "mimetype": "text/x-python",
   "name": "python",
   "nbconvert_exporter": "python",
   "pygments_lexer": "ipython3",
   "version": "3.6.6"
  }
 },
 "nbformat": 4,
 "nbformat_minor": 2
}

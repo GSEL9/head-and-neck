{
 "cells": [
  {
   "cell_type": "markdown",
   "metadata": {},
   "source": [
    "# CT and PET Image Preparation\n",
    "\n",
    "Images are provided as MATLAB files containing the tumor region in addition to a bounding region containing 20 voxels of the original image in the x, and y direction, and approximately 20 voxels in the z direction. "
   ]
  },
  {
   "cell_type": "code",
   "execution_count": 1,
   "metadata": {},
   "outputs": [],
   "source": [
    "import sys\n",
    "sys.path.append('./../src/')\n",
    "\n",
    "import ioutil"
   ]
  },
  {
   "cell_type": "markdown",
   "metadata": {},
   "source": [
    "## Prep original images\n",
    "\n",
    "Prepare the cropped images displaying the tumor and a set of border voxels by converting MATLAB files to NRRD. Note that the masks were binary."
   ]
  },
  {
   "cell_type": "code",
   "execution_count": 3,
   "metadata": {},
   "outputs": [],
   "source": [
    "ioutil.matlab_to_nrrd(\n",
    "    './../../data/images/ct_cropped_raw/',\n",
    "    './../../data/images/ct_cropped/', modality='CT'\n",
    ")\n",
    "ioutil.matlab_to_nrrd(\n",
    "    './../../data/images/pet_cropped_raw/',\n",
    "    './../../data/images/pet_cropped/', modality='PET'\n",
    ")\n",
    "ioutil.matlab_to_nrrd(\n",
    "    './../../data/images/masks_cropped_raw/',\n",
    "    './../../data/images/masks_cropped/', modality='mask'\n",
    ")"
   ]
  },
  {
   "cell_type": "code",
   "execution_count": 4,
   "metadata": {},
   "outputs": [
    {
     "data": {
      "text/plain": [
       "(198, 198, 198)"
      ]
     },
     "execution_count": 4,
     "metadata": {},
     "output_type": "execute_result"
    }
   ],
   "source": [
    "num_ct = len(\n",
    "    ioutil.relative_paths(\n",
    "        './../../data/images/ct_cropped/', target_format='nrrd'\n",
    "    )\n",
    ")\n",
    "num_pet = len(\n",
    "    ioutil.relative_paths(\n",
    "        './../../data/images/masks_cropped/', target_format='nrrd'\n",
    "    )\n",
    ")\n",
    "num_masks = len(\n",
    "    ioutil.relative_paths(\n",
    "        './../../data/images/pet_cropped/', target_format='nrrd'\n",
    "    )\n",
    ")\n",
    "num_ct, num_pet, num_masks"
   ]
  },
  {
   "cell_type": "markdown",
   "metadata": {},
   "source": [
    "## Prep histogram equalized images"
   ]
  },
  {
   "cell_type": "code",
   "execution_count": 5,
   "metadata": {},
   "outputs": [],
   "source": [
    "import numpy as np"
   ]
  },
  {
   "cell_type": "code",
   "execution_count": 6,
   "metadata": {},
   "outputs": [],
   "source": [
    "def histogram_equal(image, nbins=512, **kwargs):\n",
    "    \n",
    "    _image = np.copy(image)\n",
    "    \n",
    "    # get image histogram\n",
    "    image_histogram, bins = np.histogram(_image.flatten(), nbins)\n",
    "    \n",
    "    # Cumulative distribution function.\n",
    "    cdf = image_histogram.cumsum() \n",
    "    # Normalize.\n",
    "    cdf = np.max(_image) * cdf / cdf[-1] \n",
    "    # Use linear interpolation of cdf to find new pixel values\n",
    "    image_equalized = np.interp(image.flatten(), bins[:-1], cdf)\n",
    "\n",
    "    return image_equalized.reshape(np.shape(_image))"
   ]
  },
  {
   "cell_type": "code",
   "execution_count": 7,
   "metadata": {},
   "outputs": [],
   "source": [
    "ioutil.matlab_to_nrrd(\n",
    "    './../../data/images/ct_cropped_raw/',\n",
    "    './../../data/images/ct_cropped_histeq/', \n",
    "    transform=histogram_equal, modality='CT', nbins=512\n",
    ")\n",
    "ioutil.matlab_to_nrrd(\n",
    "    './../../data/images/pet_cropped_raw/',\n",
    "    './../../data/images/pet_cropped_histeq/',\n",
    "    transform=histogram_equal, modality='PET', nbins=256\n",
    ")"
   ]
  },
  {
   "cell_type": "code",
   "execution_count": 8,
   "metadata": {},
   "outputs": [
    {
     "ename": "RuntimeError",
     "evalue": "Invalid path ./../../data/images/masks_cropped_histeq/",
     "output_type": "error",
     "traceback": [
      "\u001b[0;31m-----------------------------------------------------------------\u001b[0m",
      "\u001b[0;31mRuntimeError\u001b[0m                    Traceback (most recent call last)",
      "\u001b[0;32m<ipython-input-8-a6619303e5e1>\u001b[0m in \u001b[0;36m<module>\u001b[0;34m()\u001b[0m\n\u001b[1;32m      6\u001b[0m num_pet = len(\n\u001b[1;32m      7\u001b[0m     ioutil.relative_paths(\n\u001b[0;32m----> 8\u001b[0;31m         \u001b[0;34m'./../../data/images/masks_cropped_histeq/'\u001b[0m\u001b[0;34m,\u001b[0m \u001b[0mtarget_format\u001b[0m\u001b[0;34m=\u001b[0m\u001b[0;34m'nrrd'\u001b[0m\u001b[0;34m\u001b[0m\u001b[0m\n\u001b[0m\u001b[1;32m      9\u001b[0m     )\n\u001b[1;32m     10\u001b[0m )\n",
      "\u001b[0;32m~/Desktop/term-paper/head-and-neck/src/ioutil.py\u001b[0m in \u001b[0;36mrelative_paths\u001b[0;34m(path_to_dir, target_format)\u001b[0m\n\u001b[1;32m     65\u001b[0m \u001b[0;34m\u001b[0m\u001b[0m\n\u001b[1;32m     66\u001b[0m     \u001b[0;32mif\u001b[0m \u001b[0;32mnot\u001b[0m \u001b[0mos\u001b[0m\u001b[0;34m.\u001b[0m\u001b[0mpath\u001b[0m\u001b[0;34m.\u001b[0m\u001b[0misdir\u001b[0m\u001b[0;34m(\u001b[0m\u001b[0mpath_to_dir\u001b[0m\u001b[0;34m)\u001b[0m\u001b[0;34m:\u001b[0m\u001b[0;34m\u001b[0m\u001b[0m\n\u001b[0;32m---> 67\u001b[0;31m         \u001b[0;32mraise\u001b[0m \u001b[0mRuntimeError\u001b[0m\u001b[0;34m(\u001b[0m\u001b[0;34m'Invalid path {}'\u001b[0m\u001b[0;34m.\u001b[0m\u001b[0mformat\u001b[0m\u001b[0;34m(\u001b[0m\u001b[0mpath_to_dir\u001b[0m\u001b[0;34m)\u001b[0m\u001b[0;34m)\u001b[0m\u001b[0;34m\u001b[0m\u001b[0m\n\u001b[0m\u001b[1;32m     68\u001b[0m \u001b[0;34m\u001b[0m\u001b[0m\n\u001b[1;32m     69\u001b[0m     \u001b[0mfile_names\u001b[0m \u001b[0;34m=\u001b[0m \u001b[0msorted\u001b[0m\u001b[0;34m(\u001b[0m\u001b[0mos\u001b[0m\u001b[0;34m.\u001b[0m\u001b[0mlistdir\u001b[0m\u001b[0;34m(\u001b[0m\u001b[0mpath_to_dir\u001b[0m\u001b[0;34m)\u001b[0m\u001b[0;34m)\u001b[0m\u001b[0;34m\u001b[0m\u001b[0m\n",
      "\u001b[0;31mRuntimeError\u001b[0m: Invalid path ./../../data/images/masks_cropped_histeq/"
     ]
    }
   ],
   "source": [
    "num_ct = len(\n",
    "    ioutil.relative_paths(\n",
    "        './../../data/images/ct_cropped_histeq/', target_format='nrrd'\n",
    "    )\n",
    ")\n",
    "num_pet = len(\n",
    "    ioutil.relative_paths(\n",
    "        './../../data/images/pet_cropped_histeq/', target_format='nrrd'\n",
    "    )\n",
    ")\n",
    "num_ct, num_pet"
   ]
  },
  {
   "cell_type": "code",
   "execution_count": null,
   "metadata": {},
   "outputs": [],
   "source": []
  }
 ],
 "metadata": {
  "anaconda-cloud": {},
  "kernelspec": {
   "display_name": "Python [conda env:anaconda]",
   "language": "python",
   "name": "conda-env-anaconda-py"
  },
  "language_info": {
   "codemirror_mode": {
    "name": "ipython",
    "version": 3
   },
   "file_extension": ".py",
   "mimetype": "text/x-python",
   "name": "python",
   "nbconvert_exporter": "python",
   "pygments_lexer": "ipython3",
   "version": "3.6.6"
  }
 },
 "nbformat": 4,
 "nbformat_minor": 2
}

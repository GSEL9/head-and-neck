{
 "cells": [
  {
   "cell_type": "markdown",
   "metadata": {},
   "source": [
    "# CT and PET Image Preparation\n",
    "\n",
    "Images are provided as MATLAB files containing the tumor region in addition to a bounding region containing 20 voxels of the original image in the x, and y direction, and approximately 20 voxels in the z direction. "
   ]
  },
  {
   "cell_type": "code",
   "execution_count": 1,
   "metadata": {},
   "outputs": [],
   "source": [
    "import sys\n",
    "sys.path.append('./../src/')\n",
    "\n",
    "import ioutil"
   ]
  },
  {
   "cell_type": "markdown",
   "metadata": {},
   "source": [
    "Prepare the cropped images displaying the tumor and a set of border voxels by converting MATLAB files to NRRD. Note that the masks were binary."
   ]
  },
  {
   "cell_type": "code",
   "execution_count": 2,
   "metadata": {},
   "outputs": [],
   "source": [
    "ioutil.matlab_to_nrrd(\n",
    "    './../../data/images/ct_cropped_raw/',\n",
    "    './../../data/images/ct_cropped_prep/', modality='CT'\n",
    ")\n",
    "ioutil.matlab_to_nrrd(\n",
    "    './../../data/images/pet_cropped_raw/',\n",
    "    './../../data/images/pet_cropped_prep/', modality='PET'\n",
    ")\n",
    "ioutil.matlab_to_nrrd(\n",
    "    './../../data/images/masks_cropped_raw/',\n",
    "    './../../data/images/masks_cropped_prep/', modality='mask'\n",
    ")"
   ]
  },
  {
   "cell_type": "code",
   "execution_count": 3,
   "metadata": {},
   "outputs": [
    {
     "data": {
      "text/plain": [
       "198"
      ]
     },
     "execution_count": 3,
     "metadata": {},
     "output_type": "execute_result"
    }
   ],
   "source": [
    "len(ioutil.relative_paths('./../../data/images/ct_cropped_prep/', target_format='nrrd'))"
   ]
  },
  {
   "cell_type": "code",
   "execution_count": 4,
   "metadata": {},
   "outputs": [
    {
     "data": {
      "text/plain": [
       "198"
      ]
     },
     "execution_count": 4,
     "metadata": {},
     "output_type": "execute_result"
    }
   ],
   "source": [
    "len(ioutil.relative_paths('./../../data/images/pet_cropped_prep/', target_format='nrrd'))"
   ]
  },
  {
   "cell_type": "code",
   "execution_count": 5,
   "metadata": {},
   "outputs": [
    {
     "data": {
      "text/plain": [
       "198"
      ]
     },
     "execution_count": 5,
     "metadata": {},
     "output_type": "execute_result"
    }
   ],
   "source": [
    "len(ioutil.relative_paths('./../../data/images/masks_cropped_prep/', target_format='nrrd'))"
   ]
  },
  {
   "cell_type": "code",
   "execution_count": null,
   "metadata": {},
   "outputs": [],
   "source": []
  }
 ],
 "metadata": {
  "anaconda-cloud": {},
  "kernelspec": {
   "display_name": "Python [conda env:anaconda]",
   "language": "python",
   "name": "conda-env-anaconda-py"
  },
  "language_info": {
   "codemirror_mode": {
    "name": "ipython",
    "version": 3
   },
   "file_extension": ".py",
   "mimetype": "text/x-python",
   "name": "python",
   "nbconvert_exporter": "python",
   "pygments_lexer": "ipython3",
   "version": "3.6.6"
  }
 },
 "nbformat": 4,
 "nbformat_minor": 2
}
